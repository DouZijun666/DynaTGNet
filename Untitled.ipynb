{
 "cells": [
  {
   "cell_type": "code",
   "execution_count": 3,
   "id": "4d29734e-797c-4620-9240-38fc97463d00",
   "metadata": {
    "tags": []
   },
   "outputs": [
    {
     "name": "stdout",
     "output_type": "stream",
     "text": [
      "Use GPU: 0 for training\n",
      "(120, 315, 3)\n",
      "Using cudnn.benchmark.\n",
      "****************************************************\n",
      "UWaveGestureLibrary\n",
      "train.py:189: UserWarning: To copy construct from a tensor, it is recommended to use sourceTensor.clone().detach() or sourceTensor.clone().detach().requires_grad_(True), rather than torch.tensor(sourceTensor).\n",
      "  data=torch.tensor(data,dtype=torch.float)\n",
      "train.py:190: UserWarning: To copy construct from a tensor, it is recommended to use sourceTensor.clone().detach() or sourceTensor.clone().detach().requires_grad_(True), rather than torch.tensor(sourceTensor).\n",
      "  label=torch.tensor(label,dtype=torch.long)\n",
      "train.py:223: UserWarning: To copy construct from a tensor, it is recommended to use sourceTensor.clone().detach() or sourceTensor.clone().detach().requires_grad_(True), rather than torch.tensor(sourceTensor).\n",
      "  data=torch.tensor(data,dtype=torch.float)\n",
      "train.py:224: UserWarning: To copy construct from a tensor, it is recommended to use sourceTensor.clone().detach() or sourceTensor.clone().detach().requires_grad_(True), rather than torch.tensor(sourceTensor).\n",
      "  label=torch.tensor(label,dtype=torch.long)\n",
      "Epoch 00145: reducing learning rate of group 0 to 5.0000e-05.\n",
      "Epoch 00234: reducing learning rate of group 0 to 2.5000e-05.\n",
      "Epoch 00285: reducing learning rate of group 0 to 1.2500e-05.\n",
      "Epoch 00336: reducing learning rate of group 0 to 6.2500e-06.\n",
      "Epoch 00387: reducing learning rate of group 0 to 3.1250e-06.\n",
      "Epoch 00438: reducing learning rate of group 0 to 1.5625e-06.\n",
      "Epoch 00489: reducing learning rate of group 0 to 7.8125e-07.\n",
      "Epoch 00540: reducing learning rate of group 0 to 3.9063e-07.\n",
      "Epoch 00591: reducing learning rate of group 0 to 1.9531e-07.\n",
      "Epoch 00642: reducing learning rate of group 0 to 9.7656e-08.\n",
      "Epoch 00693: reducing learning rate of group 0 to 4.8828e-08.\n",
      "Epoch 00744: reducing learning rate of group 0 to 2.4414e-08.\n",
      "Epoch 00795: reducing learning rate of group 0 to 1.2207e-08.\n",
      " * best_acc1: tensor([85.], device='cuda:0')\n",
      " * time: Time 212.264 (212.264)\n",
      "****************************************************\n",
      "avg_acc:tensor([82.3809], device='cuda:0')\n"
     ]
    }
   ],
   "source": [
    "!python train.py --dataset='UWaveGestureLibrary' --top_k=0.8 --conv1d_size=4 --groups=4 "
   ]
  },
  {
   "cell_type": "code",
   "execution_count": null,
   "id": "4bb042c2-0fb2-45cb-b3de-5d25b059ab50",
   "metadata": {},
   "outputs": [],
   "source": []
  },
  {
   "cell_type": "code",
   "execution_count": null,
   "id": "ac3ae5de-35b7-4a8a-9341-403a2cd2629a",
   "metadata": {},
   "outputs": [],
   "source": []
  }
 ],
 "metadata": {
  "kernelspec": {
   "display_name": "Python 3 (ipykernel)",
   "language": "python",
   "name": "python3"
  },
  "language_info": {
   "codemirror_mode": {
    "name": "ipython",
    "version": 3
   },
   "file_extension": ".py",
   "mimetype": "text/x-python",
   "name": "python",
   "nbconvert_exporter": "python",
   "pygments_lexer": "ipython3",
   "version": "3.8.10"
  }
 },
 "nbformat": 4,
 "nbformat_minor": 5
}
